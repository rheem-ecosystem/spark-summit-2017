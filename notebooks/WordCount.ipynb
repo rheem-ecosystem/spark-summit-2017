{
 "cells": [
  {
   "cell_type": "markdown",
   "metadata": {},
   "source": [
    "<h1>Wordcount with Rheem <div style=\"float:right; z-index:1\"><img src=\"rheem.png\" width=\"100px\" /></div></h1>\n",
    "\n",
    "This notebook demonstrates how to run Wordcount, the _Hello world!_ for data processing tools. To run this notebook, you will need the [Jupyter Scala kernel](https://github.com/alexarchambault/jupyter-scala)."
   ]
  },
  {
   "cell_type": "markdown",
   "metadata": {},
   "source": [
    "Let us briefly give the basic idea of WordCount in the Java API:\n",
    "\n",
    "<div style=\"float:right;\"><img src=\"img/wordcount-rheem-studio.png\" width=\"250px\"/></div>\n",
    "```java\n",
    "RheemContext rheemCtx = new RheemContext(new Configuration())\n",
    "    .withPlugin(Spark.basicPlugin())\n",
    "    .withPlugin(Java.basicPlugin());\n",
    "    \n",
    "JavaPlanBuilder planBuilder = new JavaPlanBuilder(rheemCtx);\n",
    "Collection<Tuple2<String, Integer> wordCounts = planBuilder\n",
    "    .readTextFile(\"hdfs://my-namenode/my-corpus.txt\")\n",
    "    .flatMap(line -> Arrays.asList(line.split(\"\\\\W+\")))\n",
    "    .map(word -> new Tuple2<>(word.toLowerCase(), 1))\n",
    "    .reduceByKey(\n",
    "        Tuple2::getField0,\n",
    "        (t1, t2) -> new Tuple2<>(t1.getField0(), t1.getField1() + t2.getField1()))\n",
    "    .collect();\n",
    "\n",
    "```"
   ]
  },
  {
   "cell_type": "markdown",
   "metadata": {},
   "source": [
    "At first, we obtain an input dataset."
   ]
  },
  {
   "cell_type": "code",
   "execution_count": 1,
   "metadata": {
    "collapsed": false
   },
   "outputs": [],
   "source": [
    "locally {\n",
    "    import java.io._\n",
    "    import scala.io.Source\n",
    "    \n",
    "    val file = new File(\"data/iliad.txt\")\n",
    "    if (!file.exists) {\n",
    "        file.getParentFile.mkdirs()\n",
    "        val source = Source.fromURL(\"http://www.gutenberg.org/cache/epub/6130/pg6130.txt\")\n",
    "        val writer = new BufferedWriter(new OutputStreamWriter(new FileOutputStream(file), \"UTF-8\"))\n",
    "        source.foreach(char => writer.write(char.asInstanceOf[Int]))\n",
    "        writer.close()\n",
    "        source.close()\n",
    "    }\n",
    "}"
   ]
  },
  {
   "cell_type": "markdown",
   "metadata": {},
   "source": [
    "Next, we intialize Rheem."
   ]
  },
  {
   "cell_type": "code",
   "execution_count": 2,
   "metadata": {
    "collapsed": false
   },
   "outputs": [
    {
     "data": {
      "text/plain": [
       "\u001b[32mimport \u001b[39m\u001b[36m$ivy.$                           \n",
       "\u001b[39m"
      ]
     },
     "execution_count": 2,
     "metadata": {},
     "output_type": "execute_result"
    }
   ],
   "source": [
    "// Disable logging.\n",
    "import $ivy.`org.slf4j:slf4j-nop:1.7.12`\n",
    "org.slf4j.LoggerFactory.getLogger(\"root\").info(\"Enforcing slf4j-nop...\")"
   ]
  },
  {
   "cell_type": "code",
   "execution_count": 3,
   "metadata": {
    "collapsed": false
   },
   "outputs": [
    {
     "data": {
      "text/plain": [
       "\u001b[32mimport \u001b[39m\u001b[36m$ivy.$                                ,\n",
       "    $ivy.$                                 ,\n",
       "    $ivy.$                                ,\n",
       "    $ivy.$                                  ,\n",
       "    $ivy.$                                   ,\n",
       "    $ivy.$                                     ,\n",
       "    $ivy.$                                 ,\n",
       "    $ivy.$                                                   \n",
       "\n",
       "// Do the relevant imports.\n",
       "\u001b[39m\n",
       "\u001b[32mimport \u001b[39m\u001b[36morg.qcri.rheem.api._\n",
       "\u001b[39m\n",
       "\u001b[32mimport \u001b[39m\u001b[36morg.qcri.rheem.core.api._\n",
       "\u001b[39m\n",
       "\u001b[32mimport \u001b[39m\u001b[36morg.qcri.rheem.core.optimizer.ProbabilisticDoubleInterval\n",
       "\u001b[39m\n",
       "\u001b[32mimport \u001b[39m\u001b[36morg.qcri.rheem.java.Java, org.qcri.rheem.spark.Spark\n",
       "\u001b[39m\n",
       "\u001b[32mimport \u001b[39m\u001b[36mde.hpi.isg.profiledb.store.model._\n",
       "\u001b[39m\n",
       "\u001b[32mimport \u001b[39m\u001b[36mcom.github.sekruse.spark_summit_demo._\n",
       "\n",
       "// Set up a Rheem context.\n",
       "\u001b[39m\n",
       "\u001b[36mlocalDir\u001b[39m: \u001b[32mjava\u001b[39m.\u001b[32mio\u001b[39m.\u001b[32mFile\u001b[39m = /Users/basti/Work/Repositories/spark-summit-2017/notebooks/.\n",
       "\u001b[36mconfig\u001b[39m: \u001b[32morg\u001b[39m.\u001b[32mqcri\u001b[39m.\u001b[32mrheem\u001b[39m.\u001b[32mcore\u001b[39m.\u001b[32mapi\u001b[39m.\u001b[32mConfiguration\u001b[39m = Configuration[file:///Users/basti/Work/Repositories/spark-summit-2017/notebooks/./rheem.properties]"
      ]
     },
     "execution_count": 3,
     "metadata": {},
     "output_type": "execute_result"
    }
   ],
   "source": [
    "// Load dependencies into the kernel.\n",
    "import $ivy.`org.qcri.rheem::rheem-api:0.3.0`,\n",
    "    $ivy.`org.qcri.rheem:rheem-basic:0.3.0`,\n",
    "    $ivy.`org.qcri.rheem:rheem-java:0.3.0`,\n",
    "    $ivy.`org.qcri.rheem::rheem-spark:0.3.0`,\n",
    "    $ivy.`org.apache.spark::spark-core:1.6.0`,\n",
    "    $ivy.`org.apache.spark::spark-graphx:1.6.0`,\n",
    "    $ivy.`de.hpi.isg:profiledb-store:0.1.1`,\n",
    "    $ivy.`com.github.sekruse::spark-summit-demo:1.0-SNAPSHOT`\n",
    "\n",
    "// Do the relevant imports.\n",
    "import org.qcri.rheem.api._\n",
    "import org.qcri.rheem.core.api._\n",
    "import org.qcri.rheem.core.optimizer.ProbabilisticDoubleInterval\n",
    "import org.qcri.rheem.java.Java, org.qcri.rheem.spark.Spark\n",
    "import de.hpi.isg.profiledb.store.model._\n",
    "import com.github.sekruse.spark_summit_demo._\n",
    "\n",
    "// Set up a Rheem context.\n",
    "val localDir = new java.io.File(\".\").getAbsoluteFile\n",
    "val config = new Configuration(s\"file://$localDir/rheem.properties\")"
   ]
  },
  {
   "cell_type": "markdown",
   "metadata": {},
   "source": [
    "If this notebook is run in an offline environment, run the `run-webserver.sh` script to provide the required JS libraries."
   ]
  },
  {
   "cell_type": "code",
   "execution_count": 4,
   "metadata": {
    "collapsed": false
   },
   "outputs": [
    {
     "data": {
      "text/plain": [
       "\u001b[36moffline\u001b[39m: \u001b[32mBoolean\u001b[39m = \u001b[32mtrue\u001b[39m"
      ]
     },
     "execution_count": 4,
     "metadata": {},
     "output_type": "execute_result"
    }
   ],
   "source": [
    "val offline = true\n",
    "if (offline) {\n",
    "    addModule(\"plotly\", \"http://localhost:8888/files/js/plotly-latest.min\")\n",
    "    addModule(\"d3\", \"http://localhost:8888/files/js/d3.v4.min\")\n",
    "    config.setProperty(\"spark.driver.host\", \"localhost\")\n",
    "}"
   ]
  },
  {
   "cell_type": "markdown",
   "metadata": {},
   "source": [
    "Now, we can run the Wordcount."
   ]
  },
  {
   "cell_type": "code",
   "execution_count": 24,
   "metadata": {
    "collapsed": false
   },
   "outputs": [
    {
     "data": {
      "text/html": [
       "<h1>Words in Homer's Iliad</h1>"
      ]
     },
     "metadata": {},
     "output_type": "display_data"
    },
    {
     "data": {
      "text/html": [
       "<div id=\"my-div-36\" style=\"width: 100%; height: 500\"></div>"
      ]
     },
     "metadata": {},
     "output_type": "display_data"
    },
    {
     "data": {
      "application/javascript": [
       "require(['plotly'], function(plotly) {\n",
       "    // Inputs:\n",
       "    var data = [{\"name\":\"Words in Homer's Iliad\",\"hoverinfo\":\"label+value+percent\",\"labels\":[\"a\",\"d\",\"in\",\"their\",\"the\",\"that\",\"with\",\"as\",\"his\",\"s\",\"and\",\"of\",\"(other)\",\"from\",\"to\",\"he\",\"on\"],\"values\":[2353.0,3250.0,3189.0,1053.0,15798.0,1049.0,2462.0,1054.0,3467.0,1521.0,7154.0,5240.0,143026.0,1429.0,4488.0,1722.0,1311.0],\"type\":\"pie\",\"showlegend\":false}],\n",
       "        divId = \"my-div-36\";\n",
       "    plotly.newPlot(divId, data);\n",
       "});\n"
      ]
     },
     "metadata": {},
     "output_type": "display_data"
    },
    {
     "data": {
      "text/html": [
       "<h1>Execution plan</h1>"
      ]
     },
     "metadata": {},
     "output_type": "display_data"
    },
    {
     "data": {
      "text/html": [
       "<div id=\"my-div-37\" style=\"width: 100%; height: 500px\"></div>"
      ]
     },
     "metadata": {},
     "output_type": "display_data"
    },
    {
     "data": {
      "application/javascript": [
       "requirejs(['d3'], function (d3) {\n",
       "    \"use strict\";\n",
       "\n",
       "    // ID of the DIV to render in.\n",
       "    var divId = \"my-div-37\";\n",
       "    var data = {\n",
       "        // Graph nodes. Format: [{id: <ID>, name: <name>, label: <type>, radius: <radius>, color: <color>}, ...]\n",
       "        nodes: [{\"name\":\"StreamChannel\",\"label\":\"Data quanta type: String\",\"color\":\"#000000\",\"radius\":5,\"id\":1},{\"name\":\"StreamChannel\",\"label\":\"Data quanta type: cmd23Wrapper$Helper$WC$3\",\"color\":\"#000000\",\"radius\":5,\"id\":2},{\"name\":\"StreamChannel\",\"label\":\"Data quanta type: String\",\"color\":\"#000000\",\"radius\":5,\"id\":4},{\"name\":\"RddChannel\",\"label\":\"Data quanta type: Void\",\"color\":\"#000000\",\"radius\":5,\"id\":6},{\"name\":\"RddChannel\",\"label\":\"Data quanta type: String\",\"color\":\"#000000\",\"radius\":5,\"id\":7},{\"name\":\"StreamChannel\",\"label\":\"Data quanta type: cmd23Wrapper$Helper$WC$3\",\"color\":\"#000000\",\"radius\":5,\"id\":9},{\"name\":\"CollectionChannel\",\"label\":\"Data quanta type: cmd23Wrapper$Helper$WC$3\",\"color\":\"#000000\",\"radius\":5,\"id\":10},{\"name\":\"CollectionChannel\",\"label\":\"Data quanta type: Void\",\"color\":\"#000000\",\"radius\":5,\"id\":13},{\"name\":\"CollectionChannel\",\"label\":\"Data quanta type: cmd23Wrapper$Helper$WC$3\",\"color\":\"#000000\",\"radius\":5,\"id\":15},{\"name\":\"CollectionChannel\",\"label\":\"Data quanta type: Void\",\"color\":\"#000000\",\"radius\":5,\"id\":17},{\"name\":\"To lower case, add counter\",\"label\":\"JavaMapOperator\",\"color\":\"#8FC230\",\"radius\":10,\"id\":0},{\"name\":\"Load file\",\"label\":\"JavaTextFileSource\",\"color\":\"#8FC230\",\"radius\":10,\"id\":3},{\"name\":\"Split words\",\"label\":\"SparkFlatMapOperator\",\"color\":\"#40A0D4\",\"radius\":10,\"id\":5},{\"name\":\"Add counters again\",\"label\":\"JavaReduceByOperator\",\"color\":\"#8FC230\",\"radius\":10,\"id\":8},{\"name\":\"collect()\",\"label\":\"JavaLocalCallbackSink\",\"color\":\"#8FC230\",\"radius\":10,\"id\":11},{\"name\":\"Filter empty words\",\"label\":\"JavaFilterOperator\",\"color\":\"#8FC230\",\"radius\":10,\"id\":12},{\"name\":\"Add counters\",\"label\":\"JavaReduceByOperator\",\"color\":\"#8FC230\",\"radius\":10,\"id\":14},{\"name\":\"convert output@JavaTextFileSource[Load file]\",\"label\":\"SparkCollectionSource\",\"color\":\"#40A0D4\",\"radius\":10,\"id\":16},{\"name\":\"Mask rather small words\",\"label\":\"JavaMapOperator\",\"color\":\"#8FC230\",\"radius\":10,\"id\":18},{\"name\":\"convert output@JavaTextFileSource[Load file]\",\"label\":\"JavaCollectOperator\",\"color\":\"#8FC230\",\"radius\":10,\"id\":19},{\"name\":\"convert out@SparkFlatMap[Split words]\",\"label\":\"SparkCollectOperator\",\"color\":\"#40A0D4\",\"radius\":10,\"id\":20}],\n",
       "        // Graph links. Format: [{source: <source node ID>, target: <destination node ID>}, ...]\n",
       "        links: [{\"source\":1,\"target\":0},{\"source\":0,\"target\":2},{\"source\":3,\"target\":4},{\"source\":6,\"target\":5},{\"source\":5,\"target\":7},{\"source\":9,\"target\":8},{\"source\":8,\"target\":10},{\"source\":10,\"target\":11},{\"source\":13,\"target\":12},{\"source\":12,\"target\":1},{\"source\":2,\"target\":14},{\"source\":14,\"target\":15},{\"source\":17,\"target\":16},{\"source\":16,\"target\":6},{\"source\":15,\"target\":18},{\"source\":18,\"target\":9},{\"source\":4,\"target\":19},{\"source\":19,\"target\":17},{\"source\":7,\"target\":20},{\"source\":20,\"target\":13}],\n",
       "        // Graph nodes.\n",
       "        legend: [{\"name\":\"Channel\",\"label\":\"\",\"color\":\"#000000\",\"radius\":5,\"id\":0},{\"name\":\"Apache Spark\",\"label\":\"\",\"color\":\"#40A0D4\",\"radius\":10,\"id\":0},{\"name\":\"Java Streams\",\"label\":\"\",\"color\":\"#8FC230\",\"radius\":10,\"id\":0}]\n",
       "    };\n",
       "\n",
       "    // Obtain the DIV we are supposed to work in.\n",
       "    var div = document.getElementById(divId);\n",
       "    div.style.position = \"relative\";\n",
       "    var width = div.clientWidth, height = div.clientHeight;\n",
       "    var margin = {top: 0, left: 0, bottom: 0, right: 0};\n",
       "    var chartWidth = width - margin.left - margin.right, chartHeight = height - margin.top - margin.bottom;\n",
       "\n",
       "    // Add an SVG to draw the chart in.\n",
       "    var svg = d3.select(\"#\" + divId).append(\"svg\");\n",
       "    svg.attr(\"width\", width).attr(\"height\", height);\n",
       "\n",
       "    // Add a chart layer.\n",
       "    var chartLayer = svg.append(\"g\").classed(\"chartLayer\", true);\n",
       "    chartLayer\n",
       "        .attr(\"width\", chartWidth)\n",
       "        .attr(\"height\", chartHeight)\n",
       "        .attr(\"transform\", \"translate(\" + [margin.left, margin.top] + \")\");\n",
       "\n",
       "    // Create the tooltip.\n",
       "    var tooltip = d3.select(\"#\" + divId).append(\"div\")\n",
       "        .style(\"position\", \"absolute\")\n",
       "        .style(\"padding\", \"5px\")\n",
       "        .style(\"border\", \"1px\")\n",
       "        .style(\"border-style\", \"black\")\n",
       "        .style(\"border-color\", \"green\")\n",
       "        .style(\"border-radius\", \"4px\")\n",
       "        .style(\"background\", \"#CCCCCC\")\n",
       "        .style(\"pointer-events\", \"none\")\n",
       "        .style(\"font\", \"12px sans-serif\")\n",
       "        .style(\"color\", \"white\")\n",
       "        .style(\"text-shadow\", \"0px 0px 3px black\")\n",
       "        .style(\"opacity\", 0);\n",
       "\n",
       "    // Create the force simulation.\n",
       "    var simulation = d3.forceSimulation()\n",
       "        .force(\"link\", d3.forceLink().id(function (d) { return d.id }).distance(35).strength(2.8))\n",
       "        .force(\"collide\", d3.forceCollide(function (d) { return d.radius + 8 }).iterations(16))\n",
       "        .force(\"charge\", d3.forceManyBody().strength(-100))\n",
       "        .force(\"center\", d3.forceCenter(chartWidth / 2, chartHeight / 2))\n",
       "        .force(\"y\", d3.forceY(0))\n",
       "        .force(\"x\", d3.forceX(0));\n",
       "\n",
       "    // Render the links.\n",
       "    svg.append(\"defs\").selectAll(\"marker\")\n",
       "        .data([\"default\"])\n",
       "        .enter().append(\"marker\")\n",
       "        .attr(\"id\", function(d) { return d; })\n",
       "        .attr(\"viewBox\", \"0 0 10 10\")\n",
       "        .attr(\"refX\", 10)\n",
       "        .attr(\"refY\", 5)\n",
       "        .attr(\"markerWidth\", 10)\n",
       "        .attr(\"markerHeight\", 10)\n",
       "        .attr(\"orient\", \"auto\")\n",
       "        .attr(\"fill\", \"black\")\n",
       "        .append(\"path\")\n",
       "        .attr(\"d\", \"M 0 0 L 10 5 L 0 10 Z\");\n",
       "\n",
       "    var link = svg.append(\"g\")\n",
       "        .attr(\"class\", \"links\")\n",
       "        .selectAll(\"line\")\n",
       "        .data(data.links)\n",
       "        .enter()\n",
       "        .append(\"line\")\n",
       "        .attr(\"stroke\", \"black\")\n",
       "        .attr(\"marker-end\", \"url(#default)\");\n",
       "\n",
       "    // Render the nodes.\n",
       "    var node = svg.append(\"g\")\n",
       "        .attr(\"class\", \"nodes\")\n",
       "        .selectAll(\"circle\")\n",
       "        .data(data.nodes)\n",
       "        .enter().append(\"circle\")\n",
       "        .attr(\"r\", function (d) { return d.radius })\n",
       "        .attr(\"fill\", function (d) { return d.color })\n",
       "        .attr(\"stroke\", \"black\")\n",
       "        .attr(\"opacity\", 0.9)\n",
       "        .on(\"mouseover\", function(d) {\n",
       "            tooltip.transition()\n",
       "                .duration(200)\n",
       "                .style(\"opacity\", 1);\n",
       "            tooltip.html(\"<b>\" + d.name + \"</b><br/>\" + d.label)\n",
       "                .style(\"background\", d.color)\n",
       "                .style(\"left\", (d3.mouse(div)[0] + 20) + \"px\")\n",
       "                .style(\"top\", (d3.mouse(div)[1] + 20) + \"px\");\n",
       "        })\n",
       "        .on(\"mousemove\", function(d) {\n",
       "            tooltip.html(\"<b>\" + d.name + \"</b><br/>\" + d.label)\n",
       "                .style(\"background\", d.color)\n",
       "                .style(\"left\", (d3.mouse(div)[0] + 20) + \"px\")\n",
       "                .style(\"top\", (d3.mouse(div)[1] + 20) + \"px\");\n",
       "        })\n",
       "        .on(\"mouseout\", function(d) {\n",
       "            tooltip.transition()\n",
       "                .duration(500)\n",
       "                .style(\"opacity\", 0);\n",
       "        })\n",
       "        .call(d3.drag()\n",
       "            .on(\"start\", dragstarted)\n",
       "            .on(\"drag\", dragged)\n",
       "            .on(\"end\", dragended));\n",
       "\n",
       "    function shiftOnLine(source, target, point, width) {\n",
       "        var dx = target.x - source.x,\n",
       "            dy = target.y - source.y;\n",
       "        var l = Math.sqrt(dx * dx + dy * dy);\n",
       "        if (l == 0) return point;\n",
       "        return {\n",
       "            x: point.x + width * dx / l,\n",
       "            y: point.y + width * dy / l\n",
       "        };\n",
       "    }\n",
       "\n",
       "\n",
       "    // Render the legend.\n",
       "    svg.append(\"g\")\n",
       "        .selectAll(\"circle\")\n",
       "        .data(data.legend)\n",
       "        .enter().append(\"circle\")\n",
       "        .attr(\"r\", function (d) { return d.radius })\n",
       "        .attr(\"fill\", function (d) { return d.color })\n",
       "        .attr(\"transform\", function (d, i) { return \"translate(15,\" + (30 * i + 15) + \")\" })\n",
       "        .attr(\"stroke\", \"black\")\n",
       "        .attr(\"opacity\", 0.9);\n",
       "    svg.append(\"g\")\n",
       "        .selectAll(\"text\")\n",
       "        .data(data.legend)\n",
       "        .enter().append(\"text\")\n",
       "        .attr(\"x\", function(d, i) { return 35 })\n",
       "        .attr(\"y\", function(d, i) { return 30 * i + 20; })\n",
       "        .text( function (d) { return d.name; })\n",
       "        .attr(\"font-family\", \"sans-serif\")\n",
       "        .attr(\"font-size\", \"14px\")\n",
       "        .attr(\"fill\", \"black\");\n",
       "\n",
       "    // Register the nodes of with the force simulation.\n",
       "    var ticked = function () {\n",
       "        link\n",
       "            .attr(\"x1\", function (d) { return shiftOnLine(d.source, d.target, d.source, d.source.radius).x; })\n",
       "            .attr(\"y1\", function (d) { return shiftOnLine(d.source, d.target, d.source, d.source.radius).y; })\n",
       "            .attr(\"x2\", function (d) { return shiftOnLine(d.source, d.target, d.target, -d.target.radius).x; })\n",
       "            .attr(\"y2\", function (d) { return shiftOnLine(d.source, d.target, d.target, -d.target.radius).y; });\n",
       "\n",
       "        node\n",
       "            .attr(\"cx\", function (d) { return d.x; })\n",
       "            .attr(\"cy\", function (d) { return d.y; });\n",
       "    };\n",
       "\n",
       "    simulation\n",
       "        .nodes(data.nodes)\n",
       "        .on(\"tick\", ticked);\n",
       "\n",
       "    // Register the links with the force simulation.\n",
       "    simulation.force(\"link\")\n",
       "        .links(data.links);\n",
       "\n",
       "\n",
       "    function dragstarted(d) {\n",
       "        if (!d3.event.active) simulation.alphaTarget(0.3).restart();\n",
       "        d.fx = d.x;\n",
       "        d.fy = d.y;\n",
       "    }\n",
       "\n",
       "    function dragged(d) {\n",
       "        d.fx = d3.event.x;\n",
       "        d.fy = d3.event.y;\n",
       "    }\n",
       "\n",
       "    function dragended(d) {\n",
       "        if (!d3.event.active) simulation.alphaTarget(0);\n",
       "        d.fx = null;\n",
       "        d.fy = null;\n",
       "    }\n",
       "});\n"
      ]
     },
     "metadata": {},
     "output_type": "display_data"
    }
   ],
   "source": [
    "// Define a class to handle word counts neatly.\n",
    "locally {\n",
    "    case class WC(word: String, count: Int) {\n",
    "        def +(that: WC) = {\n",
    "            require(this.word == that.word)\n",
    "            WC(this.word, this.count + that.count)\n",
    "        }\n",
    "        override def toString: String = s\"${count}x ${word}\"\n",
    "    }\n",
    "    \n",
    "    val experiment = new Experiment(\"my-exp\", new Subject(\"WordCount\", \"1.0\"))\n",
    "    val rheemCtx = new RheemContext(config)\n",
    "        .withPlugin(Java.basicPlugin)\n",
    "        .withPlugin(Spark.basicPlugin)\n",
    "    \n",
    "    // Set up a new plan.\n",
    "    val planBuilder = new PlanBuilder(rheemCtx)\n",
    "        .withJobName(\"WordCount\")\n",
    "        .withUdfJarsOf(this.getClass)\n",
    "        .withExperiment(experiment)\n",
    "    \n",
    "    val wordCounts = planBuilder\n",
    "\n",
    "        // Read the text file.\n",
    "        .readTextFile(s\"file://$localDir/data/iliad.txt\").withName(\"Load file\")\n",
    "\n",
    "        // Split each line by non-word characters.\n",
    "        .flatMap(_.split(\"\\\\W+\"), udfLoad = (in: Long, out: Long) => 100 * in).withName(\"Split words\")\n",
    "        //.withTargetPlatforms(Spark.platform)\n",
    "\n",
    "        // Filter empty tokens.\n",
    "        .filter(_.nonEmpty, selectivity = 0.99).withName(\"Filter empty words\")\n",
    "\n",
    "        // Attach counter to each word.\n",
    "        .map(word => WC(word.toLowerCase, 1)).withName(\"To lower case, add counter\")\n",
    "\n",
    "        // Sum up counters for every word.\n",
    "        .reduceByKey(_.word, _ + _).withName(\"Add counters\")\n",
    "        .withCardinalityEstimator((in: Long) => math.round(in * 0.01))\n",
    "    \n",
    "        // Mask rather small words counts.\n",
    "        .map(wc => if (wc.count > 1000) wc else WC(\"(other)\", wc.count)).withName(\"Mask rather small words\")\n",
    "        .reduceByKey(_.word, _ + _).withName(\"Add counters again\")\n",
    "\n",
    "        // Execute the plan and collect the results.\n",
    "        .collect()\n",
    "    \n",
    "    publish.html(\"<h1>Words in Homer's Iliad</h1>\")\n",
    "    plotPieChart[WC](\n",
    "        name = \"Words in Homer's Iliad\",\n",
    "        data = wordCounts,\n",
    "        values = _.count.toDouble,\n",
    "        labels = _.word,\n",
    "        showlegend = false\n",
    "    )\n",
    " \n",
    "    publish.html(\"<h1>Execution plan</h1>\")\n",
    "    plotExecutionPlan(experiment)\n",
    "}"
   ]
  }
 ],
 "metadata": {
  "kernelspec": {
   "display_name": "Scala",
   "language": "scala",
   "name": "scala"
  },
  "language_info": {
   "codemirror_mode": "text/x-scala",
   "file_extension": ".scala",
   "mimetype": "text/x-scala",
   "name": "scala211",
   "nbconvert_exporter": "scala",
   "pygments_lexer": "scala",
   "version": "2.11.8"
  }
 },
 "nbformat": 4,
 "nbformat_minor": 0
}
