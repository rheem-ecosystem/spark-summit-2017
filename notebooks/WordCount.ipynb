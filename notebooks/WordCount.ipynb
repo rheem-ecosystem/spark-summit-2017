{
 "cells": [
  {
   "cell_type": "markdown",
   "metadata": {},
   "source": [
    "<h1>Wordcount with Rheem <div style=\"float:right; z-index:1\"><img src=\"rheem.png\" width=\"100px\" /></div></h1>\n",
    "\n",
    "This notebook demonstrates how to run Wordcount, the _Hello world!_ for data processing tools. To run this notebook, you will need the [Jupyter Scala kernel](https://github.com/alexarchambault/jupyter-scala)."
   ]
  },
  {
   "cell_type": "markdown",
   "metadata": {},
   "source": [
    "At first, we obtain an input dataset."
   ]
  },
  {
   "cell_type": "code",
   "execution_count": null,
   "metadata": {
    "collapsed": false
   },
   "outputs": [],
   "source": [
    "locally {\n",
    "    import java.io._\n",
    "    import scala.io.Source\n",
    "    \n",
    "    val file = new File(\"data/iliad.txt\")\n",
    "    if (!file.exists) {\n",
    "        file.getParentFile.mkdirs()\n",
    "        val source = Source.fromURL(\"http://www.gutenberg.org/cache/epub/6130/pg6130.txt\")\n",
    "        val writer = new BufferedWriter(new OutputStreamWriter(new FileOutputStream(file), \"UTF-8\"))\n",
    "        source.foreach(char => writer.write(char.asInstanceOf[Int]))\n",
    "        writer.close()\n",
    "        source.close()\n",
    "    }\n",
    "}"
   ]
  },
  {
   "cell_type": "markdown",
   "metadata": {},
   "source": [
    "Next, we intialize Rheem."
   ]
  },
  {
   "cell_type": "code",
   "execution_count": null,
   "metadata": {
    "collapsed": false
   },
   "outputs": [],
   "source": [
    "// Load dependencies into the kernel.\n",
    "import $ivy.`org.slf4j:slf4j-nop:1.7.12`,\n",
    "    $ivy.`org.qcri.rheem:rheem-api:0.2.1-SNAPSHOT`,\n",
    "    $ivy.`org.qcri.rheem:rheem-basic:0.2.1-SNAPSHOT`,\n",
    "    $ivy.`org.qcri.rheem:rheem-java:0.2.1-SNAPSHOT`,\n",
    "    $ivy.`org.qcri.rheem:rheem-spark:0.2.1-SNAPSHOT`\n",
    "\n",
    "// Do the relevant imports.\n",
    "import org.qcri.rheem.api._\n",
    "import org.qcri.rheem.core.api._\n",
    "import org.qcri.rheem.core.optimizer.ProbabilisticDoubleInterval\n",
    "import org.qcri.rheem.java.Java, org.qcri.rheem.spark.Spark\n",
    "\n",
    "// Set up a Rheem context.\n",
    "val localDir = new java.io.File(\".\").getAbsoluteFile\n",
    "val config = new Configuration(s\"file://$localDir/rheem.properties\")\n",
    "val rheemCtx = new RheemContext(config) withPlugin Java.basicPlugin withPlugin Spark.basicPlugin"
   ]
  },
  {
   "cell_type": "markdown",
   "metadata": {},
   "source": [
    "Now, we can do the Wordcount."
   ]
  },
  {
   "cell_type": "code",
   "execution_count": null,
   "metadata": {
    "collapsed": false
   },
   "outputs": [],
   "source": [
    "locally {\n",
    "    // Define a class to handle word counts neatly.\n",
    "    case class WC(word: String, count: Int) {\n",
    "        def +(that: WC) = {\n",
    "            require(this.word == that.word)\n",
    "            WC(this.word, this.count + that.count)\n",
    "        }\n",
    "        \n",
    "        override def toString: String = s\"${count}x ${word}\"\n",
    "    }\n",
    "    \n",
    "    // Set up a new plan.\n",
    "    val planBuilder = new PlanBuilder(rheemCtx)\n",
    "        .withJobName(\"WordCount\")\n",
    "        .withUdfJarsOf(this.getClass)\n",
    "    \n",
    "    val wordCounts = planBuilder\n",
    "\n",
    "        // Read the text file.\n",
    "        .readTextFile(s\"file://$localDir/data/iliad.txt\").withName(\"Load file\")\n",
    "\n",
    "        // Split each line by non-word characters.\n",
    "        .flatMap(_.split(\"\\\\W+\")).withName(\"Split words\")\n",
    "\n",
    "        // Filter empty tokens.\n",
    "        .filter(_.nonEmpty, selectivity = 0.99).withName(\"Filter empty words\")\n",
    "\n",
    "        // Attach counter to each word.\n",
    "        .map(word => WC(word.toLowerCase, 1)).withName(\"To lower case, add counter\")\n",
    "\n",
    "        // Sum up counters for every word.\n",
    "        .reduceByKey(_.word, _ + _).withName(\"Add counters\")\n",
    "        .withCardinalityEstimator((in: Long) => math.round(in * 0.01))\n",
    "    \n",
    "        // Sort out rather small word counts.\n",
    "        .filter(_.count > 10)\n",
    "\n",
    "        // Execute the plan and collect the results.\n",
    "        .collect()\n",
    "    \n",
    "    wordCounts.toSeq.sortBy(-_.count).foreach(println)\n",
    "}"
   ]
  }
 ],
 "metadata": {
  "kernelspec": {
   "display_name": "Scala",
   "language": "scala",
   "name": "scala"
  },
  "language_info": {
   "codemirror_mode": "text/x-scala",
   "file_extension": ".scala",
   "mimetype": "text/x-scala",
   "name": "scala211",
   "nbconvert_exporter": "scala",
   "pygments_lexer": "scala",
   "version": "2.11.8"
  }
 },
 "nbformat": 4,
 "nbformat_minor": 0
}
