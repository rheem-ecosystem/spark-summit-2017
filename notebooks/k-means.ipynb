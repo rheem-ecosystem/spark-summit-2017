{
 "cells": [
  {
   "cell_type": "markdown",
   "metadata": {},
   "source": [
    "<h1>K-means with Rheem <div style=\"float:right; z-index:1\"><img src=\"rheem.png\" width=\"100px\" /></div></h1>\n",
    "\n",
    "This notebook demonstrates how to run k-means, a popular clustering algorithm. In particular, iterations and DB access are being demonstrated here. To run this notebook, you will need the [Jupyter Scala kernel](https://github.com/alexarchambault/jupyter-scala)."
   ]
  },
  {
   "cell_type": "markdown",
   "metadata": {},
   "source": [
    "<h3>Rheem plan (abstract)</h3>\n",
    "<img src=\"img/k-means-abstract.png\" style=\"float:center\" width=\"500\"/>"
   ]
  },
  {
   "cell_type": "markdown",
   "metadata": {},
   "source": [
    "At first, we intialize Rheem."
   ]
  },
  {
   "cell_type": "code",
   "execution_count": 1,
   "metadata": {
    "collapsed": false
   },
   "outputs": [
    {
     "data": {
      "text/plain": [
       "\u001b[32mimport \u001b[39m\u001b[36m$ivy.$                           \n",
       "\u001b[39m"
      ]
     },
     "execution_count": 1,
     "metadata": {},
     "output_type": "execute_result"
    }
   ],
   "source": [
    "// Disable logging.\n",
    "import $ivy.`org.slf4j:slf4j-nop:1.7.12`\n",
    "org.slf4j.LoggerFactory.getLogger(\"root\").info(\"Enforcing slf4j-nop...\")"
   ]
  },
  {
   "cell_type": "code",
   "execution_count": 2,
   "metadata": {
    "collapsed": false
   },
   "outputs": [
    {
     "data": {
      "text/plain": [
       "\u001b[32mimport \u001b[39m\u001b[36m$ivy.$                                ,\n",
       "    $ivy.$                                 ,\n",
       "    $ivy.$                                ,\n",
       "    $ivy.$                                  ,\n",
       "    $ivy.$                                   ,\n",
       "    $ivy.$                                   ,\n",
       "    $ivy.$                                     ,\n",
       "    $ivy.$                                 ,\n",
       "    $ivy.$                                                   \n",
       "\n",
       "// Do the relevant imports.\n",
       "\u001b[39m\n",
       "\u001b[32mimport \u001b[39m\u001b[36morg.qcri.rheem.api._\n",
       "\u001b[39m\n",
       "\u001b[32mimport \u001b[39m\u001b[36morg.qcri.rheem.core.api._\n",
       "\u001b[39m\n",
       "\u001b[32mimport \u001b[39m\u001b[36morg.qcri.rheem.core.function._\n",
       "\u001b[39m\n",
       "\u001b[32mimport \u001b[39m\u001b[36morg.qcri.rheem.core.optimizer.ProbabilisticDoubleInterval\n",
       "\u001b[39m\n",
       "\u001b[32mimport \u001b[39m\u001b[36morg.qcri.rheem.java.Java, org.qcri.rheem.spark.Spark, org.qcri.rheem.sqlite3.Sqlite3\n",
       "\u001b[39m\n",
       "\u001b[32mimport \u001b[39m\u001b[36mde.hpi.isg.profiledb.store.model._\n",
       "\u001b[39m\n",
       "\u001b[32mimport \u001b[39m\u001b[36mcom.github.sekruse.spark_summit_demo._\n",
       "\u001b[39m\n",
       "\u001b[32mimport \u001b[39m\u001b[36mscala.collection.JavaConversions._\n",
       "\n",
       "// Set up a Rheem context.\n",
       "\u001b[39m\n",
       "\u001b[36mlocalDir\u001b[39m: \u001b[32mjava\u001b[39m.\u001b[32mio\u001b[39m.\u001b[32mFile\u001b[39m = /Users/basti/Work/Repositories/spark-summit-2017/notebooks/.\n",
       "\u001b[36mconfig\u001b[39m: \u001b[32morg\u001b[39m.\u001b[32mqcri\u001b[39m.\u001b[32mrheem\u001b[39m.\u001b[32mcore\u001b[39m.\u001b[32mapi\u001b[39m.\u001b[32mConfiguration\u001b[39m = Configuration[file:///Users/basti/Work/Repositories/spark-summit-2017/notebooks/./rheem.properties]"
      ]
     },
     "execution_count": 2,
     "metadata": {},
     "output_type": "execute_result"
    }
   ],
   "source": [
    "// Load dependencies into the kernel.\n",
    "import $ivy.`org.qcri.rheem::rheem-api:0.3.0`,\n",
    "    $ivy.`org.qcri.rheem:rheem-basic:0.3.0`,\n",
    "    $ivy.`org.qcri.rheem:rheem-java:0.3.0`,\n",
    "    $ivy.`org.qcri.rheem::rheem-spark:0.3.0`,\n",
    "    $ivy.`org.qcri.rheem:rheem-sqlite3:0.3.0`,\n",
    "    $ivy.`org.apache.spark::spark-core:1.6.0`,\n",
    "    $ivy.`org.apache.spark::spark-graphx:1.6.0`,\n",
    "    $ivy.`de.hpi.isg:profiledb-store:0.1.1`,\n",
    "    $ivy.`com.github.sekruse::spark-summit-demo:1.0-SNAPSHOT`\n",
    "\n",
    "// Do the relevant imports.\n",
    "import org.qcri.rheem.api._\n",
    "import org.qcri.rheem.core.api._\n",
    "import org.qcri.rheem.core.function._\n",
    "import org.qcri.rheem.core.optimizer.ProbabilisticDoubleInterval\n",
    "import org.qcri.rheem.java.Java, org.qcri.rheem.spark.Spark, org.qcri.rheem.sqlite3.Sqlite3\n",
    "import de.hpi.isg.profiledb.store.model._\n",
    "import com.github.sekruse.spark_summit_demo._\n",
    "import scala.collection.JavaConversions._\n",
    "\n",
    "// Set up a Rheem context.\n",
    "val localDir = new java.io.File(\".\").getAbsoluteFile\n",
    "val config = new Configuration(s\"file://$localDir/rheem.properties\")"
   ]
  },
  {
   "cell_type": "markdown",
   "metadata": {},
   "source": [
    "Next, we generate an input database."
   ]
  },
  {
   "cell_type": "code",
   "execution_count": 3,
   "metadata": {
    "collapsed": false
   },
   "outputs": [],
   "source": [
    "locally {\n",
    "    import java.io.File\n",
    "    \n",
    "    val file = new File(\"data/locations.db\")\n",
    "    if (!file.exists) {\n",
    "        file.getParentFile.mkdirs()\n",
    "        generateKMeansData(path = file.getPath, k = 20, points = 10000)\n",
    "    }\n",
    "    \n",
    "    config.setProperty(\"rheem.sqlite3.jdbc.url\", s\"jdbc:sqlite:$file\")\n",
    "}"
   ]
  },
  {
   "cell_type": "markdown",
   "metadata": {},
   "source": [
    "If this notebook is run in an offline environment, run the `run-webserver.sh` script to provide the required JS libraries."
   ]
  },
  {
   "cell_type": "code",
   "execution_count": 4,
   "metadata": {
    "collapsed": false
   },
   "outputs": [
    {
     "data": {
      "text/plain": [
       "\u001b[36moffline\u001b[39m: \u001b[32mBoolean\u001b[39m = \u001b[32mtrue\u001b[39m"
      ]
     },
     "execution_count": 4,
     "metadata": {},
     "output_type": "execute_result"
    }
   ],
   "source": [
    "val offline = true\n",
    "if (offline) {\n",
    "    addModule(\"plotly\", \"http://localhost:8888/files/js/plotly-latest.min\")\n",
    "    addModule(\"d3\", \"http://localhost:8888/files/js/d3.v4.min\")\n",
    "    config.setProperty(\"spark.driver.host\", \"localhost\")\n",
    "}"
   ]
  },
  {
   "cell_type": "markdown",
   "metadata": {},
   "source": [
    "Now, we can run k-means."
   ]
  },
  {
   "cell_type": "code",
   "execution_count": 10,
   "metadata": {
    "collapsed": false
   },
   "outputs": [
    {
     "data": {
      "text/html": [
       "<h1>Result</h1> Collected (116.82, 131.66) and 14 more centroids."
      ]
     },
     "metadata": {},
     "output_type": "display_data"
    },
    {
     "data": {
      "text/html": [
       "<h1>Execution plan</h1>"
      ]
     },
     "metadata": {},
     "output_type": "display_data"
    },
    {
     "data": {
      "text/html": [
       "<div id=\"my-div-5\" style=\"width: 100%; height: 500px\"></div>"
      ]
     },
     "metadata": {},
     "output_type": "display_data"
    },
    {
     "data": {
      "application/javascript": [
       "requirejs(['d3'], function (d3) {\n",
       "    \"use strict\";\n",
       "\n",
       "    // ID of the DIV to render in.\n",
       "    var divId = \"my-div-5\";\n",
       "    var data = {\n",
       "        // Graph nodes. Format: [{id: <ID>, name: <name>, label: <type>, radius: <radius>, color: <color>}, ...]\n",
       "        nodes: [{\"name\":\"RddChannel\",\"label\":\"Data quanta type: Void\",\"color\":\"#000000\",\"radius\":5,\"id\":1},{\"name\":\"RddChannel\",\"label\":\"Data quanta type: cmd9Wrapper$Helper$Point$3\",\"color\":\"#000000\",\"radius\":5,\"id\":2},{\"name\":\"RddChannel\",\"label\":\"Data quanta type: cmd9Wrapper$Helper$TaggedPoint$3\",\"color\":\"#000000\",\"radius\":5,\"id\":4},{\"name\":\"RddChannel\",\"label\":\"Data quanta type: cmd9Wrapper$Helper$Point$3\",\"color\":\"#000000\",\"radius\":5,\"id\":5},{\"name\":\"SqlQueryChannel\",\"label\":\"Data quanta type: Record\",\"color\":\"#000000\",\"radius\":5,\"id\":7},{\"name\":\"SqlQueryChannel\",\"label\":\"Data quanta type: Record\",\"color\":\"#000000\",\"radius\":5,\"id\":8},{\"name\":\"RddChannel\",\"label\":\"Data quanta type: Void\",\"color\":\"#000000\",\"radius\":5,\"id\":10},{\"name\":\"BroadcastChannel\",\"label\":\"Data quanta type: Void\",\"color\":\"#000000\",\"radius\":5,\"id\":11},{\"name\":\"RddChannel\",\"label\":\"Data quanta type: cmd9Wrapper$Helper$TaggedPointCounter$3\",\"color\":\"#000000\",\"radius\":5,\"id\":12},{\"name\":\"RddChannel\",\"label\":\"Data quanta type: cmd9Wrapper$Helper$TaggedPointCounter$3\",\"color\":\"#000000\",\"radius\":5,\"id\":14},{\"name\":\"RddChannel\",\"label\":\"Data quanta type: cmd9Wrapper$Helper$TaggedPoint$3\",\"color\":\"#000000\",\"radius\":5,\"id\":15},{\"name\":\"RddChannel\",\"label\":\"Data quanta type: cmd9Wrapper$Helper$TaggedPoint$3\",\"color\":\"#000000\",\"radius\":5,\"id\":17},{\"name\":\"RddChannel\",\"label\":\"Data quanta type: cmd9Wrapper$Helper$TaggedPoint$3\",\"color\":\"#000000\",\"radius\":5,\"id\":18},{\"name\":\"RddChannel\",\"label\":\"Data quanta type: cmd9Wrapper$Helper$TaggedPoint$3\",\"color\":\"#000000\",\"radius\":5,\"id\":19},{\"name\":\"StreamChannel\",\"label\":\"Data quanta type: Record\",\"color\":\"#000000\",\"radius\":5,\"id\":21},{\"name\":\"CollectionChannel\",\"label\":\"Data quanta type: Void\",\"color\":\"#000000\",\"radius\":5,\"id\":22},{\"name\":\"RddChannel\",\"label\":\"Data quanta type: Void\",\"color\":\"#000000\",\"radius\":5,\"id\":24},{\"name\":\"RddChannel\",\"label\":\"Data quanta type: Tuple2\",\"color\":\"#000000\",\"radius\":5,\"id\":25},{\"name\":\"CollectionChannel\",\"label\":\"Data quanta type: Void\",\"color\":\"#000000\",\"radius\":5,\"id\":27},{\"name\":\"Create points\",\"label\":\"SparkMapOperator\",\"color\":\"#40A0D4\",\"radius\":10,\"id\":0},{\"name\":\"Strip centroid names\",\"label\":\"SparkMapOperator\",\"color\":\"#40A0D4\",\"radius\":10,\"id\":3},{\"name\":\"Project coordinates\",\"label\":\"Sqlite3ProjectionOperator\",\"color\":\"#7B7B7B\",\"radius\":10,\"id\":6},{\"name\":\"Find nearest centroid\",\"label\":\"SparkMapOperator\",\"color\":\"#40A0D4\",\"radius\":10,\"id\":9},{\"name\":\"Average points\",\"label\":\"SparkMapOperator\",\"color\":\"#40A0D4\",\"radius\":10,\"id\":13},{\"name\":\"Loop\",\"label\":\"SparkRepeatOperator\",\"color\":\"#40A0D4\",\"radius\":10,\"id\":16},{\"name\":\"convert out@Sqlite3Projection[Project coordinates]\",\"label\":\"JavaCollectOperator\",\"color\":\"#8FC230\",\"radius\":10,\"id\":20},{\"name\":\"Co-group with old centroids\",\"label\":\"SparkCoGroupOperator\",\"color\":\"#40A0D4\",\"radius\":10,\"id\":23},{\"name\":\"convert iterOut@SparkRepeat[Loop]\",\"label\":\"SparkBroadcastOperator\",\"color\":\"#40A0D4\",\"radius\":10,\"id\":26},{\"name\":\"Add up points\",\"label\":\"SparkReduceByOperator\",\"color\":\"#40A0D4\",\"radius\":10,\"id\":28},{\"name\":\"convert out@SparkMap[Create points]\",\"label\":\"SparkCacheOperator\",\"color\":\"#40A0D4\",\"radius\":10,\"id\":29},{\"name\":\"convert out@Sqlite3Projection[Project coordinates]\",\"label\":\"SparkCollectionSource\",\"color\":\"#40A0D4\",\"radius\":10,\"id\":30},{\"name\":\"Read table\",\"label\":\"Sqlite3TableSource\",\"color\":\"#7B7B7B\",\"radius\":10,\"id\":31},{\"name\":\"collect()\",\"label\":\"SparkLocalCallbackSink\",\"color\":\"#40A0D4\",\"radius\":10,\"id\":32},{\"name\":\"convert out@Sqlite3Projection[Project coordinates]\",\"label\":\"SqlToStreamOperator\",\"color\":\"#8FC230\",\"radius\":10,\"id\":33},{\"name\":\"Re-insert lost centroids\",\"label\":\"SparkMapOperator\",\"color\":\"#40A0D4\",\"radius\":10,\"id\":34},{\"name\":\"convert iterOut@SparkRepeat[Loop]\",\"label\":\"SparkCacheOperator\",\"color\":\"#40A0D4\",\"radius\":10,\"id\":35},{\"name\":\"Load random centroids\",\"label\":\"SparkCollectionSource\",\"color\":\"#40A0D4\",\"radius\":10,\"id\":36},{\"name\":\"convert iterOut@SparkRepeat[Loop]\",\"label\":\"SparkCollectOperator\",\"color\":\"#40A0D4\",\"radius\":10,\"id\":37}],\n",
       "        // Graph links. Format: [{source: <source node ID>, target: <destination node ID>}, ...]\n",
       "        links: [{\"source\":1,\"target\":0},{\"source\":0,\"target\":2},{\"source\":4,\"target\":3},{\"source\":3,\"target\":5},{\"source\":7,\"target\":6},{\"source\":6,\"target\":8},{\"source\":10,\"target\":9},{\"source\":11,\"target\":9},{\"source\":9,\"target\":12},{\"source\":14,\"target\":13},{\"source\":13,\"target\":15},{\"source\":17,\"target\":16},{\"source\":18,\"target\":16},{\"source\":16,\"target\":19},{\"source\":16,\"target\":4},{\"source\":21,\"target\":20},{\"source\":20,\"target\":22},{\"source\":15,\"target\":23},{\"source\":24,\"target\":23},{\"source\":23,\"target\":25},{\"source\":27,\"target\":26},{\"source\":26,\"target\":11},{\"source\":12,\"target\":28},{\"source\":28,\"target\":14},{\"source\":2,\"target\":29},{\"source\":29,\"target\":10},{\"source\":22,\"target\":30},{\"source\":30,\"target\":1},{\"source\":31,\"target\":7},{\"source\":5,\"target\":32},{\"source\":8,\"target\":33},{\"source\":33,\"target\":21},{\"source\":25,\"target\":34},{\"source\":34,\"target\":18},{\"source\":19,\"target\":35},{\"source\":35,\"target\":24},{\"source\":36,\"target\":17},{\"source\":24,\"target\":37},{\"source\":37,\"target\":27}],\n",
       "        // Graph nodes.\n",
       "        legend: [{\"name\":\"Channel\",\"label\":\"\",\"color\":\"#000000\",\"radius\":5,\"id\":0},{\"name\":\"SQLite3\",\"label\":\"\",\"color\":\"#7B7B7B\",\"radius\":10,\"id\":0},{\"name\":\"Apache Spark\",\"label\":\"\",\"color\":\"#40A0D4\",\"radius\":10,\"id\":0},{\"name\":\"Java Streams\",\"label\":\"\",\"color\":\"#8FC230\",\"radius\":10,\"id\":0}]\n",
       "    };\n",
       "\n",
       "    // Obtain the DIV we are supposed to work in.\n",
       "    var div = document.getElementById(divId);\n",
       "    div.style.position = \"relative\";\n",
       "    var width = div.clientWidth, height = div.clientHeight;\n",
       "    var margin = {top: 0, left: 0, bottom: 0, right: 0};\n",
       "    var chartWidth = width - margin.left - margin.right, chartHeight = height - margin.top - margin.bottom;\n",
       "\n",
       "    // Add an SVG to draw the chart in.\n",
       "    var svg = d3.select(\"#\" + divId).append(\"svg\");\n",
       "    svg.attr(\"width\", width).attr(\"height\", height);\n",
       "\n",
       "    // Add a chart layer.\n",
       "    var chartLayer = svg.append(\"g\").classed(\"chartLayer\", true);\n",
       "    chartLayer\n",
       "        .attr(\"width\", chartWidth)\n",
       "        .attr(\"height\", chartHeight)\n",
       "        .attr(\"transform\", \"translate(\" + [margin.left, margin.top] + \")\");\n",
       "\n",
       "    // Create the tooltip.\n",
       "    var tooltip = d3.select(\"#\" + divId).append(\"div\")\n",
       "        .style(\"position\", \"absolute\")\n",
       "        .style(\"padding\", \"5px\")\n",
       "        .style(\"border\", \"1px\")\n",
       "        .style(\"border-style\", \"black\")\n",
       "        .style(\"border-color\", \"green\")\n",
       "        .style(\"border-radius\", \"4px\")\n",
       "        .style(\"background\", \"#CCCCCC\")\n",
       "        .style(\"pointer-events\", \"none\")\n",
       "        .style(\"font\", \"12px sans-serif\")\n",
       "        .style(\"color\", \"white\")\n",
       "        .style(\"text-shadow\", \"0px 0px 3px black\")\n",
       "        .style(\"opacity\", 0);\n",
       "\n",
       "    // Create the force simulation.\n",
       "    var simulation = d3.forceSimulation()\n",
       "        .force(\"link\", d3.forceLink().id(function (d) { return d.id }).distance(35).strength(2.8))\n",
       "        .force(\"collide\", d3.forceCollide(function (d) { return d.radius + 8 }).iterations(16))\n",
       "        .force(\"charge\", d3.forceManyBody().strength(-100))\n",
       "        .force(\"center\", d3.forceCenter(chartWidth / 2, chartHeight / 2))\n",
       "        .force(\"y\", d3.forceY(0))\n",
       "        .force(\"x\", d3.forceX(0));\n",
       "\n",
       "    // Render the links.\n",
       "    svg.append(\"defs\").selectAll(\"marker\")\n",
       "        .data([\"default\"])\n",
       "        .enter().append(\"marker\")\n",
       "        .attr(\"id\", function(d) { return d; })\n",
       "        .attr(\"viewBox\", \"0 0 10 10\")\n",
       "        .attr(\"refX\", 10)\n",
       "        .attr(\"refY\", 5)\n",
       "        .attr(\"markerWidth\", 10)\n",
       "        .attr(\"markerHeight\", 10)\n",
       "        .attr(\"orient\", \"auto\")\n",
       "        .attr(\"fill\", \"black\")\n",
       "        .append(\"path\")\n",
       "        .attr(\"d\", \"M 0 0 L 10 5 L 0 10 Z\");\n",
       "\n",
       "    var link = svg.append(\"g\")\n",
       "        .attr(\"class\", \"links\")\n",
       "        .selectAll(\"line\")\n",
       "        .data(data.links)\n",
       "        .enter()\n",
       "        .append(\"line\")\n",
       "        .attr(\"stroke\", \"black\")\n",
       "        .attr(\"marker-end\", \"url(#default)\");\n",
       "\n",
       "    // Render the nodes.\n",
       "    var node = svg.append(\"g\")\n",
       "        .attr(\"class\", \"nodes\")\n",
       "        .selectAll(\"circle\")\n",
       "        .data(data.nodes)\n",
       "        .enter().append(\"circle\")\n",
       "        .attr(\"r\", function (d) { return d.radius })\n",
       "        .attr(\"fill\", function (d) { return d.color })\n",
       "        .attr(\"stroke\", \"black\")\n",
       "        .attr(\"opacity\", 0.9)\n",
       "        .on(\"mouseover\", function(d) {\n",
       "            tooltip.transition()\n",
       "                .duration(200)\n",
       "                .style(\"opacity\", 1);\n",
       "            tooltip.html(\"<b>\" + d.name + \"</b><br/>\" + d.label)\n",
       "                .style(\"background\", d.color)\n",
       "                .style(\"left\", (d3.mouse(div)[0] + 20) + \"px\")\n",
       "                .style(\"top\", (d3.mouse(div)[1] + 20) + \"px\");\n",
       "        })\n",
       "        .on(\"mousemove\", function(d) {\n",
       "            tooltip.html(\"<b>\" + d.name + \"</b><br/>\" + d.label)\n",
       "                .style(\"background\", d.color)\n",
       "                .style(\"left\", (d3.mouse(div)[0] + 20) + \"px\")\n",
       "                .style(\"top\", (d3.mouse(div)[1] + 20) + \"px\");\n",
       "        })\n",
       "        .on(\"mouseout\", function(d) {\n",
       "            tooltip.transition()\n",
       "                .duration(500)\n",
       "                .style(\"opacity\", 0);\n",
       "        })\n",
       "        .call(d3.drag()\n",
       "            .on(\"start\", dragstarted)\n",
       "            .on(\"drag\", dragged)\n",
       "            .on(\"end\", dragended));\n",
       "\n",
       "    function shiftOnLine(source, target, point, width) {\n",
       "        var dx = target.x - source.x,\n",
       "            dy = target.y - source.y;\n",
       "        var l = Math.sqrt(dx * dx + dy * dy);\n",
       "        if (l == 0) return point;\n",
       "        return {\n",
       "            x: point.x + width * dx / l,\n",
       "            y: point.y + width * dy / l\n",
       "        };\n",
       "    }\n",
       "\n",
       "\n",
       "    // Render the legend.\n",
       "    svg.append(\"g\")\n",
       "        .selectAll(\"circle\")\n",
       "        .data(data.legend)\n",
       "        .enter().append(\"circle\")\n",
       "        .attr(\"r\", function (d) { return d.radius })\n",
       "        .attr(\"fill\", function (d) { return d.color })\n",
       "        .attr(\"transform\", function (d, i) { return \"translate(15,\" + (30 * i + 15) + \")\" })\n",
       "        .attr(\"stroke\", \"black\")\n",
       "        .attr(\"opacity\", 0.9);\n",
       "    svg.append(\"g\")\n",
       "        .selectAll(\"text\")\n",
       "        .data(data.legend)\n",
       "        .enter().append(\"text\")\n",
       "        .attr(\"x\", function(d, i) { return 35 })\n",
       "        .attr(\"y\", function(d, i) { return 30 * i + 20; })\n",
       "        .text( function (d) { return d.name; })\n",
       "        .attr(\"font-family\", \"sans-serif\")\n",
       "        .attr(\"font-size\", \"14px\")\n",
       "        .attr(\"fill\", \"black\");\n",
       "\n",
       "    // Register the nodes of with the force simulation.\n",
       "    var ticked = function () {\n",
       "        link\n",
       "            .attr(\"x1\", function (d) { return shiftOnLine(d.source, d.target, d.source, d.source.radius).x; })\n",
       "            .attr(\"y1\", function (d) { return shiftOnLine(d.source, d.target, d.source, d.source.radius).y; })\n",
       "            .attr(\"x2\", function (d) { return shiftOnLine(d.source, d.target, d.target, -d.target.radius).x; })\n",
       "            .attr(\"y2\", function (d) { return shiftOnLine(d.source, d.target, d.target, -d.target.radius).y; });\n",
       "\n",
       "        node\n",
       "            .attr(\"cx\", function (d) { return d.x; })\n",
       "            .attr(\"cy\", function (d) { return d.y; });\n",
       "    };\n",
       "\n",
       "    simulation\n",
       "        .nodes(data.nodes)\n",
       "        .on(\"tick\", ticked);\n",
       "\n",
       "    // Register the links with the force simulation.\n",
       "    simulation.force(\"link\")\n",
       "        .links(data.links);\n",
       "\n",
       "\n",
       "    function dragstarted(d) {\n",
       "        if (!d3.event.active) simulation.alphaTarget(0.3).restart();\n",
       "        d.fx = d.x;\n",
       "        d.fy = d.y;\n",
       "    }\n",
       "\n",
       "    function dragged(d) {\n",
       "        d.fx = d3.event.x;\n",
       "        d.fy = d3.event.y;\n",
       "    }\n",
       "\n",
       "    function dragended(d) {\n",
       "        if (!d3.event.active) simulation.alphaTarget(0);\n",
       "        d.fx = null;\n",
       "        d.fy = null;\n",
       "    }\n",
       "});\n"
      ]
     },
     "metadata": {},
     "output_type": "display_data"
    }
   ],
   "source": [
    "locally {\n",
    "    val experiment = new Experiment(\"my-exp\", new Subject(\"k-means\", \"1.0\"))\n",
    "    val k = 15\n",
    "    val iterations = 20\n",
    "    val rheemCtx = new RheemContext(config)\n",
    "        //.withPlugin(Java.basicPlugin)\n",
    "        .withPlugin(Java.channelConversionPlugin)\n",
    "        .withPlugin(Spark.basicPlugin)\n",
    "        .withPlugin(Sqlite3.plugin)\n",
    "    \n",
    "    // Define data types to handle k-means neatly.\n",
    "    trait PointLike {\n",
    "      def x: Double\n",
    "      def y: Double\n",
    "    }\n",
    "\n",
    "    case class Point(x: Double, y: Double) extends PointLike {\n",
    "      def distanceTo(that: PointLike) = {\n",
    "        val dx = this.x - that.x\n",
    "        val dy = this.y - that.y\n",
    "        math.sqrt(dx * dx + dy * dy)\n",
    "      }\n",
    "      override def toString: String = f\"($x%.2f, $y%.2f)\"\n",
    "    }\n",
    "\n",
    "    case class TaggedPoint(x: Double, y: Double, centroidId: Int) extends PointLike {\n",
    "      def toPoint = Point(x, y)\n",
    "    }\n",
    "\n",
    "    case class TaggedPointCounter(x: Double, y: Double, centroidId: Int, count: Int = 1) extends PointLike {\n",
    "      def this(point: PointLike, centroidId: Int, count: Int) = this(point.x, point.y, centroidId, count)\n",
    "      def +(that: TaggedPointCounter) = TaggedPointCounter(\n",
    "          this.x + that.x, this.y + that.y, this.centroidId, this.count + that.count\n",
    "      )\n",
    "      def average = TaggedPoint(x / count, y / count, centroidId)\n",
    "    }\n",
    "\n",
    "    // Set up a new plan.\n",
    "    val planBuilder = new PlanBuilder(rheemCtx)\n",
    "        .withJobName(\"k-means\")\n",
    "        .withUdfJarsOf(this.getClass)\n",
    "        .withExperiment(experiment)\n",
    "    \n",
    "    // Read and parse the input file(s).\n",
    "    import org.qcri.rheem.sqlite3.operators._\n",
    "    val points = planBuilder\n",
    "        .readTable(new Sqlite3TableSource(\"locations\", \"lat\", \"lon\", \"description\"))\n",
    "        .withName(\"Read table\")\n",
    "    \n",
    "        .projectRecords(Seq(\"lat\", \"lon\"))\n",
    "        .withName(\"Project coordinates\")\n",
    "    \n",
    "        .map(record => Point(record.getDouble(0), record.getDouble(1)))\n",
    "        .withName(\"Create points\")\n",
    "\n",
    "    // Create initial centroids.\n",
    "    def createRandomCentroids(n: Int): Seq[TaggedPoint] =\n",
    "        for (i <- 0 until k) yield TaggedPoint(math.random * 180, math.random * 180, i)\n",
    "\n",
    "    val initialCentroids = planBuilder\n",
    "        .loadCollection(createRandomCentroids(k))\n",
    "        .withName(\"Load random centroids\")\n",
    "\n",
    "    // Do the k-means loop.\n",
    "    class SelectNearestCentroid extends FunctionDescriptor.ExtendedSerializableFunction[Point, TaggedPointCounter] {\n",
    "\n",
    "      var centroids: Iterable[TaggedPoint] = _\n",
    "      override def open(executionCtx: ExecutionContext) = {\n",
    "        centroids = executionCtx.getBroadcast[TaggedPoint](\"centroids\")\n",
    "      }\n",
    "\n",
    "      override def apply(point: Point): TaggedPointCounter = {\n",
    "        var minDistance = Double.PositiveInfinity\n",
    "        var nearestCentroidId = -1\n",
    "        for (centroid <- centroids) {\n",
    "          val distance = point.distanceTo(centroid)\n",
    "          if (distance < minDistance) {\n",
    "            minDistance = distance\n",
    "            nearestCentroidId = centroid.centroidId\n",
    "          }\n",
    "        }\n",
    "        new TaggedPointCounter(point, nearestCentroidId, 1)\n",
    "      }\n",
    "    }\n",
    "    \n",
    "    val finalCentroids = initialCentroids.repeat(iterations, { currentCentroids =>\n",
    "        points\n",
    "            .mapJava(new SelectNearestCentroid)\n",
    "            .withBroadcast(currentCentroids, \"centroids\").withName(\"Find nearest centroid\")\n",
    "        \n",
    "            .reduceByKey(_.centroidId, _ + _).withName(\"Add up points\")\n",
    "            .withCardinalityEstimator(k)\n",
    "                    \n",
    "            .map(_.average)\n",
    "            .withName(\"Average points\")\n",
    "                                                                                                                    \n",
    "            .keyBy(_.centroidId).coGroup(currentCentroids.keyBy(_.centroidId))\n",
    "            .withName(\"Co-group with old centroids\")\n",
    "            .map(coGroup => if (coGroup.field0.isEmpty) coGroup.field1.head else coGroup.field0.head)\n",
    "            .withName(\"Re-insert lost centroids\")\n",
    "            \n",
    "    }).withName(\"Loop\")\n",
    "\n",
    "    // Collect the result.\n",
    "    val c = finalCentroids\n",
    "      .map(_.toPoint).withName(\"Strip centroid names\")\n",
    "      .collect()\n",
    "    publish.html(s\"<h1>Result</h1> Collected ${c.head} and ${c.size - 1} more centroids.\")\n",
    "    \n",
    "    publish.html(\"<h1>Execution plan</h1>\")\n",
    "    plotExecutionPlan(experiment)\n",
    "}"
   ]
  }
 ],
 "metadata": {
  "kernelspec": {
   "display_name": "Scala",
   "language": "scala",
   "name": "scala"
  },
  "language_info": {
   "codemirror_mode": "text/x-scala",
   "file_extension": ".scala",
   "mimetype": "text/x-scala",
   "name": "scala211",
   "nbconvert_exporter": "scala",
   "pygments_lexer": "scala",
   "version": "2.11.8"
  }
 },
 "nbformat": 4,
 "nbformat_minor": 0
}
